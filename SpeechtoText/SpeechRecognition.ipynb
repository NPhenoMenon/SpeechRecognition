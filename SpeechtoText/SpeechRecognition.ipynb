{
 "cells": [
  {
   "cell_type": "code",
   "execution_count": 2,
   "metadata": {
    "scrolled": true
   },
   "outputs": [
    {
     "name": "stdout",
     "output_type": "stream",
     "text": [
      "Collecting SpeechRecognition\n",
      "  Using cached SpeechRecognition-3.8.1-py2.py3-none-any.whl (32.8 MB)\n",
      "Installing collected packages: SpeechRecognition\n",
      "Successfully installed SpeechRecognition-3.8.1\n"
     ]
    }
   ],
   "source": [
    "! pip install SpeechRecognition"
   ]
  },
  {
   "cell_type": "code",
   "execution_count": 1,
   "metadata": {},
   "outputs": [
    {
     "name": "stdout",
     "output_type": "stream",
     "text": [
      "Collecting pydub\n",
      "  Downloading pydub-0.25.1-py2.py3-none-any.whl (32 kB)\n",
      "Installing collected packages: pydub\n",
      "Successfully installed pydub-0.25.1\n"
     ]
    }
   ],
   "source": [
    "! pip install pydub"
   ]
  },
  {
   "cell_type": "code",
   "execution_count": 2,
   "metadata": {},
   "outputs": [
    {
     "name": "stdout",
     "output_type": "stream",
     "text": [
      "Converting Audio File To Text...\n",
      "Converted Audio Is: \n",
      " hello my name is Nikhil\n"
     ]
    }
   ],
   "source": [
    "import speech_recognition as sr\n",
    "#Speech Recognition package consists of various functions dealing with converting audio to text.\n",
    "\n",
    "\n",
    "\n",
    "\n",
    "sound = 'Recording.wav'\n",
    "r = sr.Recognizer()\n",
    "\n",
    "with sr.AudioFile(sound) as source:\n",
    "    r.adjust_for_ambient_noise(source)\n",
    "    print(\"Converting Audio File To Text...\")\n",
    "    audio = r.listen(source)\n",
    "    \n",
    "    try:\n",
    "        print(\"Converted Audio Is: \\n \" + r.recognize_google(audio))\n",
    "    except:\n",
    "        print(\"Sorry could not recognize your voice\")"
   ]
  },
  {
   "cell_type": "code",
   "execution_count": 3,
   "metadata": {},
   "outputs": [
    {
     "name": "stdout",
     "output_type": "stream",
     "text": [
      "{'alternative': [{'transcript': 'hello my name is Nikhil', 'confidence': 0.92995489}, {'transcript': 'my name is Nikhil'}, {'transcript': 'hello my name is Nickel'}, {'transcript': 'Lo my name is Nikhil'}, {'transcript': 'hello my name is nikal'}], 'final': True}\n"
     ]
    }
   ],
   "source": [
    "with sr.AudioFile(sound) as source:\n",
    "    r.adjust_for_ambient_noise(source)\n",
    "    audio = r.listen(source)\n",
    "    dict = r.recognize_google(audio, show_all = True)\n",
    "    #The alternative results with lower confidence is stored in a dictionary. By printing the dictionary we can observe\n",
    "    #how the desired output is arrived.\n",
    "\n",
    "print(dict)"
   ]
  },
  {
   "cell_type": "code",
   "execution_count": 4,
   "metadata": {},
   "outputs": [
    {
     "name": "stdout",
     "output_type": "stream",
     "text": [
      "Converting Audio File To Text...\n",
      "Converted Audio Is: \n",
      " my name is Naina\n"
     ]
    }
   ],
   "source": [
    "sound = 'test.wav'\n",
    "\n",
    "with sr.AudioFile(sound) as source:\n",
    "    r.adjust_for_ambient_noise(source)\n",
    "    r.energy_threshold = 2000\n",
    "    #This value can be used in the machine learning algorithm.\n",
    "    #At first the function was not able to process this audio.\n",
    "    #After changing the threshold to 2000, the function was able to analyse the audio.\n",
    "    #I think the default energy threshold is 4000.\n",
    "    print(\"Converting Audio File To Text...\")\n",
    "    audio = r.listen(source)\n",
    "    \n",
    "    try:\n",
    "        print(\"Converted Audio Is: \\n \" + r.recognize_google(audio))\n",
    "    except:\n",
    "        print(\"Sorry could not recognize your voice\")"
   ]
  },
  {
   "cell_type": "code",
   "execution_count": 6,
   "metadata": {},
   "outputs": [],
   "source": [
    "from pydub import AudioSegment\n",
    "from pydub.playback import play\n",
    "\n",
    "\n",
    "\n",
    "\n",
    "wav_file = AudioSegment.from_file(file = \"Recording.wav\", format = \"wav\")"
   ]
  },
  {
   "cell_type": "code",
   "execution_count": 8,
   "metadata": {},
   "outputs": [
    {
     "name": "stdout",
     "output_type": "stream",
     "text": [
      "44100\n"
     ]
    }
   ],
   "source": [
    "print(wav_file.frame_rate)"
   ]
  },
  {
   "cell_type": "code",
   "execution_count": 9,
   "metadata": {},
   "outputs": [
    {
     "name": "stdout",
     "output_type": "stream",
     "text": [
      "2\n"
     ]
    }
   ],
   "source": [
    "print(wav_file.channels)"
   ]
  },
  {
   "cell_type": "code",
   "execution_count": 13,
   "metadata": {},
   "outputs": [
    {
     "name": "stdout",
     "output_type": "stream",
     "text": [
      "2\n"
     ]
    }
   ],
   "source": [
    "#Find the number of bytes per sample\n",
    "print(wav_file.sample_width)"
   ]
  },
  {
   "cell_type": "code",
   "execution_count": 10,
   "metadata": {},
   "outputs": [
    {
     "name": "stdout",
     "output_type": "stream",
     "text": [
      "32768\n"
     ]
    }
   ],
   "source": [
    "print(wav_file.max)"
   ]
  },
  {
   "cell_type": "code",
   "execution_count": 12,
   "metadata": {},
   "outputs": [
    {
     "name": "stdout",
     "output_type": "stream",
     "text": [
      "7649\n"
     ]
    }
   ],
   "source": [
    "print(len(wav_file))"
   ]
  },
  {
   "cell_type": "code",
   "execution_count": 14,
   "metadata": {},
   "outputs": [
    {
     "name": "stdout",
     "output_type": "stream",
     "text": [
      "50\n"
     ]
    }
   ],
   "source": [
    "#We can change the attributes of the file:\n",
    "#wav_file = wav_file.set_ATTRIBUTENAME(x)\n",
    "wav_file_new = wav_file.set_frame_rate(50)\n",
    "print(wav_file_new.frame_rate)\n",
    "#These attributes can be used in machine learning algorithms"
   ]
  },
  {
   "cell_type": "code",
   "execution_count": 15,
   "metadata": {},
   "outputs": [],
   "source": [
    "#Increase the volume by 10dB\n",
    "new_wav_file = wav_file + 10\n",
    "#Reducing volume by 5\n",
    "silent_wav_file = wav_file - 5"
   ]
  },
  {
   "cell_type": "code",
   "execution_count": 16,
   "metadata": {},
   "outputs": [
    {
     "data": {
      "text/plain": [
       "<_io.BufferedRandom name='wav_file.wav'>"
      ]
     },
     "execution_count": 16,
     "metadata": {},
     "output_type": "execute_result"
    }
   ],
   "source": [
    "wav_file.export(out_f = \"wav_file.wav\", format = \"wav\")"
   ]
  },
  {
   "cell_type": "code",
   "execution_count": null,
   "metadata": {},
   "outputs": [],
   "source": []
  }
 ],
 "metadata": {
  "kernelspec": {
   "display_name": "Python 3",
   "language": "python",
   "name": "python3"
  },
  "language_info": {
   "codemirror_mode": {
    "name": "ipython",
    "version": 3
   },
   "file_extension": ".py",
   "mimetype": "text/x-python",
   "name": "python",
   "nbconvert_exporter": "python",
   "pygments_lexer": "ipython3",
   "version": "3.8.3"
  }
 },
 "nbformat": 4,
 "nbformat_minor": 4
}
