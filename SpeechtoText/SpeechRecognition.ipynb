{
 "cells": [
  {
   "cell_type": "code",
   "execution_count": 2,
   "metadata": {},
   "outputs": [
    {
     "name": "stdout",
     "output_type": "stream",
     "text": [
      "Collecting SpeechRecognition\n",
      "  Using cached SpeechRecognition-3.8.1-py2.py3-none-any.whl (32.8 MB)\n",
      "Installing collected packages: SpeechRecognition\n",
      "Successfully installed SpeechRecognition-3.8.1\n"
     ]
    }
   ],
   "source": [
    "! pip install SpeechRecognition"
   ]
  },
  {
   "cell_type": "code",
   "execution_count": 36,
   "metadata": {},
   "outputs": [
    {
     "name": "stdout",
     "output_type": "stream",
     "text": [
      "Converting Audio File To Text...\n",
      "Converted Audio Is: \n",
      " hello my name is Nikhil\n"
     ]
    }
   ],
   "source": [
    "import speech_recognition as sr\n",
    "\n",
    "\n",
    "\n",
    "\n",
    "sound = 'Recording.wav'\n",
    "r = sr.Recognizer()\n",
    "\n",
    "with sr.AudioFile(sound) as source:\n",
    "    r.adjust_for_ambient_noise(source)\n",
    "    print(\"Converting Audio File To Text...\")\n",
    "    audio = r.listen(source)\n",
    "    \n",
    "    try:\n",
    "        print(\"Converted Audio Is: \\n \" + r.recognize_google(audio))\n",
    "    except:\n",
    "        print(\"Sorry could not recognize your voice\")"
   ]
  },
  {
   "cell_type": "code",
   "execution_count": 37,
   "metadata": {},
   "outputs": [
    {
     "name": "stdout",
     "output_type": "stream",
     "text": [
      "{'alternative': [{'transcript': 'hello my name is Nikhil', 'confidence': 0.92995489}, {'transcript': 'my name is Nikhil'}, {'transcript': 'hello my name is Nickel'}, {'transcript': 'Lo my name is Nikhil'}, {'transcript': 'hello my name is nikal'}], 'final': True}\n"
     ]
    }
   ],
   "source": [
    "with sr.AudioFile(sound) as source:\n",
    "    r.adjust_for_ambient_noise(source)\n",
    "    audio = r.listen(source)\n",
    "    dict = r.recognize_google(audio, show_all = True)\n",
    "\n",
    "print(dict)"
   ]
  },
  {
   "cell_type": "code",
   "execution_count": 48,
   "metadata": {},
   "outputs": [
    {
     "name": "stdout",
     "output_type": "stream",
     "text": [
      "Converting Audio File To Text...\n",
      "Converted Audio Is: \n",
      " my name is Naina\n"
     ]
    }
   ],
   "source": [
    "sound = 'test.wav'\n",
    "\n",
    "with sr.AudioFile(sound) as source:\n",
    "    r.adjust_for_ambient_noise(source)\n",
    "    r.energy_threshold = 2000\n",
    "    #This value can be used in the machine learning algorithm.\n",
    "    print(\"Converting Audio File To Text...\")\n",
    "    audio = r.listen(source)\n",
    "    \n",
    "    try:\n",
    "        print(\"Converted Audio Is: \\n \" + r.recognize_google(audio))\n",
    "    except:\n",
    "        print(\"Sorry could not recognize your voice\")"
   ]
  },
  {
   "cell_type": "code",
   "execution_count": null,
   "metadata": {},
   "outputs": [],
   "source": []
  }
 ],
 "metadata": {
  "kernelspec": {
   "display_name": "Python 3",
   "language": "python",
   "name": "python3"
  },
  "language_info": {
   "codemirror_mode": {
    "name": "ipython",
    "version": 3
   },
   "file_extension": ".py",
   "mimetype": "text/x-python",
   "name": "python",
   "nbconvert_exporter": "python",
   "pygments_lexer": "ipython3",
   "version": "3.8.3"
  }
 },
 "nbformat": 4,
 "nbformat_minor": 4
}
